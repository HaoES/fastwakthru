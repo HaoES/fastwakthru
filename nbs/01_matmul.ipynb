{
 "cells": [
  {
   "cell_type": "markdown",
   "id": "e48bb44b-2219-40e2-b5e0-3f63224c0d22",
   "metadata": {},
   "source": [
    "# Matrix Multiplication from the foundations:\n",
    "\n",
    "The *foundations* we'll assume throughout this course are: \n",
    "- Python\n",
    "- matplotlib\n",
    "- The Python standard library\n",
    "- Jupyter Notebooks and nbdev"
   ]
  },
  {
   "cell_type": "code",
   "execution_count": 1,
   "id": "082634c5-e9b7-4362-914e-d7b1477aae8b",
   "metadata": {},
   "outputs": [],
   "source": [
    "from pathlib import Path\n",
    "import pickle, gzip, math, os, time, shutil, matplotlib as mpl, matplotlib.pyplot as plt"
   ]
  },
  {
   "cell_type": "markdown",
   "id": "796fd9fc-7fbb-4ef4-bcea-bbeae76afa06",
   "metadata": {},
   "source": [
    "We will now need to get the data:"
   ]
  },
  {
   "cell_type": "code",
   "execution_count": 2,
   "id": "710dc3d4-1d66-4e20-aa3e-9088aa79edc3",
   "metadata": {},
   "outputs": [],
   "source": [
    "MNIST_URL='https://github.com/mnielsen/neural-networks-and-deep-learning/blob/master/data/mnist.pkl.gz?raw=true'\n",
    "path_data = Path('data')\n",
    "path_data.mkdir(exist_ok = True)\n",
    "path_gz = path_data/'mnist.pkl.gz'"
   ]
  },
  {
   "cell_type": "code",
   "execution_count": 3,
   "id": "47e27954-d575-42c4-b8a8-df47e66a5891",
   "metadata": {},
   "outputs": [],
   "source": [
    "from urllib.request import urlretrieve\n",
    "if not path_gz.exists(): urlretrieve(MNIST_URL, path_gz)"
   ]
  },
  {
   "cell_type": "code",
   "execution_count": 4,
   "id": "4c15f52d-c784-4467-810a-44c8a832d2d8",
   "metadata": {},
   "outputs": [
    {
     "name": "stdout",
     "output_type": "stream",
     "text": [
      "total 16656\n",
      "-rw-r--r-- 1 kiriyama kiriyama 17051982 Jul 27 19:25 mnist.pkl.gz\n"
     ]
    }
   ],
   "source": [
    "!ls -l data"
   ]
  },
  {
   "cell_type": "code",
   "execution_count": 5,
   "id": "ceeb26eb-ac78-4049-92ea-7147cc955e05",
   "metadata": {},
   "outputs": [],
   "source": [
    "with gzip.open(path_gz, 'rb') as f: ((x_train, y_train), (x_valid, y_valid), _) = pickle.load(f, encoding = 'latin-1')"
   ]
  },
  {
   "cell_type": "code",
   "execution_count": 6,
   "id": "021c8889-b49a-4619-b65e-52ce6b1ce0cc",
   "metadata": {},
   "outputs": [
    {
     "data": {
      "text/plain": [
       "[0.0,\n",
       " 0.0,\n",
       " 0.0,\n",
       " 0.19140625,\n",
       " 0.9296875,\n",
       " 0.98828125,\n",
       " 0.98828125,\n",
       " 0.98828125,\n",
       " 0.98828125,\n",
       " 0.98828125]"
      ]
     },
     "execution_count": 6,
     "metadata": {},
     "output_type": "execute_result"
    }
   ],
   "source": [
    "lst1 = list(x_train[0])\n",
    "vals = lst1[200:210]\n",
    "vals"
   ]
  },
  {
   "cell_type": "code",
   "execution_count": 7,
   "id": "ee29f8c0-9c7b-4071-838a-3a44c2a53d92",
   "metadata": {},
   "outputs": [],
   "source": [
    "def chunks(x, sz):\n",
    "    for i in range(0, len(x), sz): yield x[i:i+sz]"
   ]
  },
  {
   "cell_type": "code",
   "execution_count": 8,
   "id": "2e578fab-b4a4-4a3b-9d1d-dceded2c5ccc",
   "metadata": {},
   "outputs": [],
   "source": [
    "val_iter = chunks(vals,5)"
   ]
  },
  {
   "cell_type": "code",
   "execution_count": 9,
   "id": "94eb71e9-a128-40d4-91e2-df7dc67dca3a",
   "metadata": {},
   "outputs": [
    {
     "data": {
      "text/plain": [
       "[0.0, 0.0, 0.0, 0.19140625, 0.9296875]"
      ]
     },
     "execution_count": 9,
     "metadata": {},
     "output_type": "execute_result"
    }
   ],
   "source": [
    "next(val_iter)"
   ]
  },
  {
   "cell_type": "code",
   "execution_count": 10,
   "id": "217217b0-af2e-4a84-9001-4b66e82479ba",
   "metadata": {},
   "outputs": [
    {
     "data": {
      "text/plain": [
       "<matplotlib.image.AxesImage at 0x7f99beee2a70>"
      ]
     },
     "execution_count": 10,
     "metadata": {},
     "output_type": "execute_result"
    },
    {
     "data": {
      "image/png": "[encoded data removed]",
      "text/plain": [
       "<Figure size 640x480 with 1 Axes>"
      ]
     },
     "metadata": {},
     "output_type": "display_data"
    }
   ],
   "source": [
    "mpl.rcParams['image.cmap'] = 'gray'\n",
    "plt.imshow(list(chunks(lst1,28)))\n"
   ]
  },
  {
   "cell_type": "code",
   "execution_count": 11,
   "id": "1700e70f-d4de-4139-8caf-70060f390da8",
   "metadata": {},
   "outputs": [],
   "source": [
    "from itertools import islice"
   ]
  },
  {
   "cell_type": "code",
   "execution_count": 12,
   "id": "98745972-15b6-48a6-8010-8f1caa3da731",
   "metadata": {},
   "outputs": [],
   "source": [
    "it = iter(vals)"
   ]
  },
  {
   "cell_type": "code",
   "execution_count": 13,
   "id": "8ee99f4b-9886-4cc5-90c7-22ce16bf61e7",
   "metadata": {},
   "outputs": [
    {
     "data": {
      "text/plain": [
       "[0.0, 0.0, 0.0, 0.19140625, 0.9296875]"
      ]
     },
     "execution_count": 13,
     "metadata": {},
     "output_type": "execute_result"
    }
   ],
   "source": [
    "list(islice(it,5))"
   ]
  },
  {
   "cell_type": "code",
   "execution_count": 14,
   "id": "5aa3e457-6cdd-416b-892c-64ab36fe2b48",
   "metadata": {},
   "outputs": [
    {
     "data": {
      "text/plain": [
       "[0.98828125, 0.98828125, 0.98828125, 0.98828125, 0.98828125]"
      ]
     },
     "execution_count": 14,
     "metadata": {},
     "output_type": "execute_result"
    }
   ],
   "source": [
    "list(islice(it,5))"
   ]
  },
  {
   "cell_type": "code",
   "execution_count": 15,
   "id": "c9932842-0a41-497a-bc1a-fb6b7b93a325",
   "metadata": {},
   "outputs": [
    {
     "data": {
      "text/plain": [
       "[]"
      ]
     },
     "execution_count": 15,
     "metadata": {},
     "output_type": "execute_result"
    }
   ],
   "source": [
    "list(islice(it,5))"
   ]
  },
  {
   "cell_type": "code",
   "execution_count": 16,
   "id": "73824469-b668-418d-bc5b-2f1ada0b50cd",
   "metadata": {},
   "outputs": [],
   "source": [
    "it = iter(lst1)\n",
    "img = list(iter(lambda: list(islice(it,28)),[]))\n"
   ]
  },
  {
   "cell_type": "code",
   "execution_count": 17,
   "id": "e1320e84-45a9-49a6-9284-3a8bba8fd6b4",
   "metadata": {},
   "outputs": [
    {
     "data": {
      "text/plain": [
       "<matplotlib.image.AxesImage at 0x7f99b585b7c0>"
      ]
     },
     "execution_count": 17,
     "metadata": {},
     "output_type": "execute_result"
    },
    {
     "data": {
      "image/png": "[encoded data removed]",
      "text/plain": [
       "<Figure size 640x480 with 1 Axes>"
      ]
     },
     "metadata": {},
     "output_type": "display_data"
    }
   ],
   "source": [
    "plt.imshow(img)"
   ]
  },
  {
   "cell_type": "markdown",
   "id": "d36c1ee3-a748-423a-8b90-74fbbe152038",
   "metadata": {},
   "source": [
    "## Matrix and Tensor"
   ]
  },
  {
   "cell_type": "code",
   "execution_count": 18,
   "id": "fba40175-e37c-4177-90c1-4150775931d7",
   "metadata": {},
   "outputs": [
    {
     "data": {
      "text/plain": [
       "0.98828125"
      ]
     },
     "execution_count": 18,
     "metadata": {},
     "output_type": "execute_result"
    }
   ],
   "source": [
    "img[20][15]"
   ]
  },
  {
   "cell_type": "code",
   "execution_count": 19,
   "id": "684c6bc8-26cc-4fff-99ae-bc2ba75b11ce",
   "metadata": {},
   "outputs": [],
   "source": [
    "class Matrix:\n",
    "    def __init__(self, xs): self.xs = xs\n",
    "    def __getitem__(self, idxs): return self.xs[idxs[0]][idxs[1]]"
   ]
  },
  {
   "cell_type": "code",
   "execution_count": 20,
   "id": "f2d21d09-02ae-4c90-9e3b-67af994d4715",
   "metadata": {},
   "outputs": [
    {
     "data": {
      "text/plain": [
       "0.98828125"
      ]
     },
     "execution_count": 20,
     "metadata": {},
     "output_type": "execute_result"
    }
   ],
   "source": [
    "m = Matrix(img)\n",
    "m[20,15]"
   ]
  },
  {
   "cell_type": "code",
   "execution_count": 21,
   "id": "d854e40f-f62c-4238-b3cf-f43c5506abbf",
   "metadata": {},
   "outputs": [],
   "source": [
    "import torch\n",
    "from torch import tensor"
   ]
  },
  {
   "cell_type": "code",
   "execution_count": 22,
   "id": "6edc7fb9-7704-4034-b32e-cc502f9b9b4d",
   "metadata": {},
   "outputs": [
    {
     "data": {
      "text/plain": [
       "tensor([1, 2, 3])"
      ]
     },
     "execution_count": 22,
     "metadata": {},
     "output_type": "execute_result"
    }
   ],
   "source": [
    "tensor([1,2,3])"
   ]
  },
  {
   "cell_type": "code",
   "execution_count": 23,
   "id": "6e0a1a7e-51f4-4a92-9353-014685a29068",
   "metadata": {},
   "outputs": [],
   "source": [
    "tens = tensor(img)"
   ]
  },
  {
   "cell_type": "code",
   "execution_count": 24,
   "id": "05e09b76-8823-4024-aea7-fa3359221533",
   "metadata": {},
   "outputs": [
    {
     "data": {
      "text/plain": [
       "tensor(0.9883)"
      ]
     },
     "execution_count": 24,
     "metadata": {},
     "output_type": "execute_result"
    }
   ],
   "source": [
    "tens[20,15]"
   ]
  },
  {
   "cell_type": "code",
   "execution_count": 25,
   "id": "f0958b54-3da7-41d3-8d77-c2dc732d10ac",
   "metadata": {},
   "outputs": [],
   "source": [
    "x_train, x_valid, y_train, y_valid = map(tensor, (x_train,x_valid,y_train,y_valid))"
   ]
  },
  {
   "cell_type": "code",
   "execution_count": 26,
   "id": "b750f145-3a52-404f-83a0-75ef00349170",
   "metadata": {},
   "outputs": [
    {
     "data": {
      "text/plain": [
       "torch.Size([50000, 784])"
      ]
     },
     "execution_count": 26,
     "metadata": {},
     "output_type": "execute_result"
    }
   ],
   "source": [
    "x_train.shape"
   ]
  },
  {
   "cell_type": "code",
   "execution_count": 27,
   "id": "c0a2be1b-56db-41fa-92fe-1a169ee49a86",
   "metadata": {},
   "outputs": [
    {
     "data": {
      "text/plain": [
       "torch.Size([50000, 28, 28])"
      ]
     },
     "execution_count": 27,
     "metadata": {},
     "output_type": "execute_result"
    }
   ],
   "source": [
    "imgs = x_train.reshape((-1,28,28))\n",
    "imgs.shape"
   ]
  },
  {
   "cell_type": "code",
   "execution_count": 28,
   "id": "704fdb3a-4caa-479a-8e42-68388d57e73a",
   "metadata": {},
   "outputs": [
    {
     "data": {
      "text/plain": [
       "<matplotlib.image.AxesImage at 0x7f99032ff040>"
      ]
     },
     "execution_count": 28,
     "metadata": {},
     "output_type": "execute_result"
    },
    {
     "data": {
      "image/png": "[encoded data removed]",
      "text/plain": [
       "<Figure size 640x480 with 1 Axes>"
      ]
     },
     "metadata": {},
     "output_type": "display_data"
    }
   ],
   "source": [
    "plt.imshow(imgs[0])"
   ]
  },
  {
   "cell_type": "code",
   "execution_count": 29,
   "id": "d3b16472-f440-4505-aa10-fc9f756123c8",
   "metadata": {},
   "outputs": [
    {
     "data": {
      "text/plain": [
       "tensor(0.9883)"
      ]
     },
     "execution_count": 29,
     "metadata": {},
     "output_type": "execute_result"
    }
   ],
   "source": [
    "imgs[0,20,15]"
   ]
  },
  {
   "cell_type": "code",
   "execution_count": 30,
   "id": "8b7f1720-5e96-4a5c-be64-8c26016cbad3",
   "metadata": {},
   "outputs": [
    {
     "data": {
      "text/plain": [
       "(tensor([5, 0, 4,  ..., 8, 4, 8]), torch.Size([50000]))"
      ]
     },
     "execution_count": 30,
     "metadata": {},
     "output_type": "execute_result"
    }
   ],
   "source": [
    "n, c = x_train.shape\n",
    "y_train, y_train.shape"
   ]
  },
  {
   "cell_type": "code",
   "execution_count": 31,
   "id": "0ea0bfb9-b603-4648-9f5d-bb22fec8ceff",
   "metadata": {},
   "outputs": [
    {
     "data": {
      "text/plain": [
       "(tensor(0), tensor(9))"
      ]
     },
     "execution_count": 31,
     "metadata": {},
     "output_type": "execute_result"
    }
   ],
   "source": [
    "min(y_train), max(y_train)"
   ]
  },
  {
   "cell_type": "markdown",
   "id": "39fd99b4-bca3-4bb3-8724-b29f05006b1d",
   "metadata": {},
   "source": [
    "## Random Numbers"
   ]
  },
  {
   "cell_type": "markdown",
   "id": "71b5c6f3-e2f6-4d8b-9130-8c1010ede423",
   "metadata": {},
   "source": [
    "Based on the Whichmann Hill algorithm used before Python 2.3"
   ]
  },
  {
   "cell_type": "code",
   "execution_count": 32,
   "id": "a2ba85b8-d8cf-4aff-9af8-97fb9838fb56",
   "metadata": {},
   "outputs": [],
   "source": [
    "rnd_state = None\n",
    "def seed(a):\n",
    "    global rnd_state\n",
    "    a, x = divmod(a, 30268)\n",
    "    a, y = divmod(a, 30306)\n",
    "    a, z = divmod(a, 30322)\n",
    "    rnd_state = int(x)+1, int(y)+1, int(z)+1"
   ]
  },
  {
   "cell_type": "code",
   "execution_count": 33,
   "id": "785bde28-48e9-480b-95e5-a1ce14079220",
   "metadata": {},
   "outputs": [
    {
     "data": {
      "text/plain": [
       "(43, 1, 1)"
      ]
     },
     "execution_count": 33,
     "metadata": {},
     "output_type": "execute_result"
    }
   ],
   "source": [
    "seed(42)\n",
    "rnd_state"
   ]
  },
  {
   "cell_type": "code",
   "execution_count": 34,
   "id": "255ead74-28d5-4227-920b-bb4fe89bd4df",
   "metadata": {},
   "outputs": [],
   "source": [
    "def rand():\n",
    "    global rnd_state\n",
    "    x, y, z = rnd_state\n",
    "    x = (171 * x) % 30269\n",
    "    y = (172 * y) % 30307\n",
    "    z = (170 * z) % 30323\n",
    "    rnd_state = x,y,z\n",
    "    return (x/30269 + y/30307 + z/30323) % 1.0"
   ]
  },
  {
   "cell_type": "code",
   "execution_count": 35,
   "id": "1b0b560a-51f3-4915-88d7-585d957100ae",
   "metadata": {},
   "outputs": [
    {
     "data": {
      "text/plain": [
       "(0.25420336316883324, 0.46884405296716114, 0.19540525690312815)"
      ]
     },
     "execution_count": 35,
     "metadata": {},
     "output_type": "execute_result"
    }
   ],
   "source": [
    "rand(),rand(),rand()"
   ]
  },
  {
   "cell_type": "code",
   "execution_count": 36,
   "id": "71049e98-5b75-46a9-acec-128d51f3caa5",
   "metadata": {},
   "outputs": [
    {
     "name": "stdout",
     "output_type": "stream",
     "text": [
      "In parent: 0.28886109883281286\n",
      "In child: 0.28886109883281286\n"
     ]
    }
   ],
   "source": [
    "if os.fork(): print(f'In parent: {rand()}')\n",
    "else:\n",
    "    print(f'In child: {rand()}')\n",
    "    os._exit(os.EX_OK)"
   ]
  },
  {
   "cell_type": "code",
   "execution_count": 37,
   "id": "95e2305a-1071-4414-b8f5-895dd50ba625",
   "metadata": {},
   "outputs": [
    {
     "name": "stdout",
     "output_type": "stream",
     "text": [
      "In parent: tensor([0.3221])\n",
      "In child: tensor([0.3221])\n"
     ]
    }
   ],
   "source": [
    "if os.fork(): print(f'In parent: {torch.rand(1)}')\n",
    "else:\n",
    "    print(f'In child: {torch.rand(1)}')\n",
    "    os._exit(os.EX_OK)"
   ]
  },
  {
   "cell_type": "code",
   "execution_count": 38,
   "id": "43a57e24-6bbd-4d8b-95f8-24cd9979ce71",
   "metadata": {},
   "outputs": [
    {
     "data": {
      "image/png": "[encoded data removed]",
      "text/plain": [
       "<Figure size 640x480 with 1 Axes>"
      ]
     },
     "metadata": {},
     "output_type": "display_data"
    }
   ],
   "source": [
    "plt.plot([rand() for _ in range(50)]);"
   ]
  },
  {
   "cell_type": "code",
   "execution_count": 39,
   "id": "ed5dec2f-64fa-4888-8e58-7dcd89a51218",
   "metadata": {},
   "outputs": [
    {
     "data": {
      "image/png": "[encoded data removed]",
      "text/plain": [
       "<Figure size 640x480 with 1 Axes>"
      ]
     },
     "metadata": {},
     "output_type": "display_data"
    }
   ],
   "source": [
    "plt.hist([rand() for _ in range(10000)]);"
   ]
  },
  {
   "cell_type": "code",
   "execution_count": 40,
   "id": "5a11d06f-0506-48c5-a82a-f93ace4370e0",
   "metadata": {},
   "outputs": [
    {
     "name": "stdout",
     "output_type": "stream",
     "text": [
      "3.37 ms ± 434 µs per loop (mean ± std. dev. of 7 runs, 10 loops each)\n"
     ]
    }
   ],
   "source": [
    "%timeit -n 10 list(chunks([rand() for _ in range(7840)], 10))"
   ]
  },
  {
   "cell_type": "code",
   "execution_count": 41,
   "id": "e12cf6e0-145a-473d-9749-c02e54fb7da9",
   "metadata": {},
   "outputs": [
    {
     "name": "stdout",
     "output_type": "stream",
     "text": [
      "The slowest run took 12.10 times longer than the fastest. This could mean that an intermediate result is being cached.\n",
      "127 µs ± 173 µs per loop (mean ± std. dev. of 7 runs, 10 loops each)\n"
     ]
    }
   ],
   "source": [
    "%timeit -n 10 torch.randn(784,10)"
   ]
  },
  {
   "cell_type": "markdown",
   "id": "a7643cd2-dc00-4a34-b9a5-2798bd159898",
   "metadata": {},
   "source": [
    "# Matrix multiplication"
   ]
  },
  {
   "cell_type": "code",
   "execution_count": 42,
   "id": "9bbd4303-4136-4c9b-8caa-38acd8abe161",
   "metadata": {},
   "outputs": [],
   "source": [
    "torch.manual_seed(1)\n",
    "weights = torch.randn(784,10)\n",
    "bias = torch.zeros(10)"
   ]
  },
  {
   "cell_type": "code",
   "execution_count": 43,
   "id": "2258e0df-3749-40c9-a03e-5017b3aaa927",
   "metadata": {},
   "outputs": [],
   "source": [
    "m1 = x_valid[:5]\n",
    "m2 = weights "
   ]
  },
  {
   "cell_type": "code",
   "execution_count": 44,
   "id": "d5630928-f8af-4059-bbfe-3f89143fd940",
   "metadata": {},
   "outputs": [
    {
     "data": {
      "text/plain": [
       "(torch.Size([5, 784]), torch.Size([784, 10]))"
      ]
     },
     "execution_count": 44,
     "metadata": {},
     "output_type": "execute_result"
    }
   ],
   "source": [
    "m1.shape, m2.shape "
   ]
  },
  {
   "cell_type": "code",
   "execution_count": 45,
   "id": "71175fd6-4ba8-43fa-bb31-7e2d71297eb1",
   "metadata": {},
   "outputs": [
    {
     "data": {
      "text/plain": [
       "((5, 784), (784, 10))"
      ]
     },
     "execution_count": 45,
     "metadata": {},
     "output_type": "execute_result"
    }
   ],
   "source": [
    "ar, ac = m1.shape\n",
    "br, bc = m2.shape \n",
    "(ar,ac), (br,bc)"
   ]
  },
  {
   "cell_type": "code",
   "execution_count": 46,
   "id": "adfcbc94-b213-4ab9-96f7-c9ad2edf9b9a",
   "metadata": {},
   "outputs": [
    {
     "data": {
      "text/plain": [
       "torch.Size([5, 10])"
      ]
     },
     "execution_count": 46,
     "metadata": {},
     "output_type": "execute_result"
    }
   ],
   "source": [
    "t1 = torch.zeros(ar,bc)\n",
    "t1.shape"
   ]
  },
  {
   "cell_type": "code",
   "execution_count": 47,
   "id": "12f5ddc0-501f-4b69-9e01-4c75e5804590",
   "metadata": {},
   "outputs": [],
   "source": [
    "for i in range(ar): # 5\n",
    "    for j in range(bc): # 10\n",
    "        for k in range(ac): # 784\n",
    "            t1[i,j] += m1[i,k] * m2[k,j]\n"
   ]
  },
  {
   "cell_type": "code",
   "execution_count": 48,
   "id": "bb6f0e28-26f0-482c-9061-7459cd5b0c3c",
   "metadata": {},
   "outputs": [
    {
     "data": {
      "text/plain": [
       "tensor([[-10.94,  -0.68,  -7.00,  -4.01,  -2.09,  -3.36,   3.91,  -3.44, -11.47,  -2.12],\n",
       "        [ 14.54,   6.00,   2.89,  -4.08,   6.59, -14.74,  -9.28,   2.16, -15.28,  -2.68],\n",
       "        [  2.22,  -3.22,  -4.80,  -6.05,  14.17,  -8.98,  -4.79,  -5.44, -20.68,  13.57],\n",
       "        [ -6.71,   8.90,  -7.46,  -7.90,   2.70,  -4.73, -11.03, -12.98,  -6.44,   3.64],\n",
       "        [ -2.44,  -6.40,  -2.40,  -9.04,  11.18,  -5.77,  -8.92,  -3.79,  -8.98,   5.28]])"
      ]
     },
     "execution_count": 48,
     "metadata": {},
     "output_type": "execute_result"
    }
   ],
   "source": [
    "torch.set_printoptions(precision=2, linewidth=140, sci_mode=False)\n",
    "t1"
   ]
  },
  {
   "cell_type": "code",
   "execution_count": 49,
   "id": "af413c09-9774-4cbf-b30b-d82dfeea1c15",
   "metadata": {},
   "outputs": [],
   "source": [
    "import numpy as np\n",
    "np.set_printoptions(precision=2, linewidth=140)"
   ]
  },
  {
   "cell_type": "code",
   "execution_count": null,
   "id": "bf5da495-84eb-4070-ade3-16843b61406a",
   "metadata": {},
   "outputs": [],
   "source": []
  },
  {
   "cell_type": "code",
   "execution_count": 50,
   "id": "6b2cf6e4-b771-4b57-bfc1-64bc1e39d570",
   "metadata": {},
   "outputs": [],
   "source": [
    "def matmul(a,b):\n",
    "    (ar, ac), (br, bc) = a.shape, b.shape \n",
    "    c = torch.zeros(ar,bc)\n",
    "\n",
    "    for i in range(ar): # 5\n",
    "        for j in range(bc): # 10\n",
    "            for k in range(ac): # 784\n",
    "                c[i,j] += a[i,k] * b[k,j]\n",
    "    return c\n"
   ]
  },
  {
   "cell_type": "code",
   "execution_count": 51,
   "id": "2e3ff779-706d-4f26-ab1a-2d8e3674c200",
   "metadata": {},
   "outputs": [
    {
     "name": "stdout",
     "output_type": "stream",
     "text": [
      "CPU times: user 818 ms, sys: 9.58 ms, total: 828 ms\n",
      "Wall time: 828 ms\n"
     ]
    }
   ],
   "source": [
    "%time _= matmul(m1,m2)"
   ]
  },
  {
   "cell_type": "markdown",
   "id": "d5b67dba-0b05-4c9a-86f0-1399caa7c363",
   "metadata": {},
   "source": [
    "# Numba"
   ]
  },
  {
   "cell_type": "code",
   "execution_count": 52,
   "id": "74e4c2f4-1a34-478d-9753-ef225e748e74",
   "metadata": {},
   "outputs": [],
   "source": [
    "from numba import njit"
   ]
  },
  {
   "cell_type": "code",
   "execution_count": 53,
   "id": "eab37bec-9290-4bf9-879a-2ed1265a37cb",
   "metadata": {},
   "outputs": [],
   "source": [
    "@njit\n",
    "def dot(a,b):\n",
    "    res = 0\n",
    "    for i in range(len(a)):\n",
    "        res += a[i] * b[i]\n",
    "    return res"
   ]
  },
  {
   "cell_type": "code",
   "execution_count": 54,
   "id": "0c842e8a-f6cf-4b6b-b791-83798730d362",
   "metadata": {},
   "outputs": [],
   "source": [
    "from numpy import array"
   ]
  },
  {
   "cell_type": "code",
   "execution_count": 55,
   "id": "c3b95810-64c6-4217-b481-1b5906619a59",
   "metadata": {},
   "outputs": [
    {
     "name": "stdout",
     "output_type": "stream",
     "text": [
      "CPU times: user 358 ms, sys: 50.9 ms, total: 409 ms\n",
      "Wall time: 637 ms\n"
     ]
    },
    {
     "data": {
      "text/plain": [
       "32"
      ]
     },
     "execution_count": 55,
     "metadata": {},
     "output_type": "execute_result"
    }
   ],
   "source": [
    "%time dot(array([1,2,3]), array([4,5,6]))"
   ]
  },
  {
   "cell_type": "code",
   "execution_count": 56,
   "id": "1ffb4754-2405-4e5c-9a36-fdaab9b7f6e4",
   "metadata": {},
   "outputs": [
    {
     "name": "stdout",
     "output_type": "stream",
     "text": [
      "CPU times: user 18 µs, sys: 3 µs, total: 21 µs\n",
      "Wall time: 23.1 µs\n"
     ]
    },
    {
     "data": {
      "text/plain": [
       "32"
      ]
     },
     "execution_count": 56,
     "metadata": {},
     "output_type": "execute_result"
    }
   ],
   "source": [
    "%time dot(array([1,2,3]), array([4,5,6]))"
   ]
  },
  {
   "cell_type": "code",
   "execution_count": 57,
   "id": "cd83741a-11cd-4574-8a69-ef4e05dbf964",
   "metadata": {},
   "outputs": [],
   "source": [
    "def matmul(a,b):\n",
    "    (ar, ac) ,(br, bc) = a.shape, b.shape\n",
    "    c = torch.zeros(ar,bc)\n",
    "    for i in range(ar):\n",
    "        for j in range(bc):\n",
    "            c[i,j] = dot(a[i,:],b[:,j])\n",
    "    return c"
   ]
  },
  {
   "cell_type": "code",
   "execution_count": 58,
   "id": "10f13107-4d43-4f40-af7b-7f5aeb647937",
   "metadata": {},
   "outputs": [],
   "source": [
    "def matmul(a,b):\n",
    "    (ar,ac),(br,bc) = a.shape,b.shape\n",
    "    c = torch.zeros(ar, bc)\n",
    "    for i in range(ar):\n",
    "        for j in range(bc): c[i,j] = dot(a[i,:], b[:,j])\n",
    "    return c"
   ]
  },
  {
   "cell_type": "code",
   "execution_count": 59,
   "id": "57af9d89-f727-4137-92fa-97dfac5b57eb",
   "metadata": {},
   "outputs": [],
   "source": [
    "m1a,m2a = m1.numpy(),m2.numpy()"
   ]
  },
  {
   "cell_type": "code",
   "execution_count": 60,
   "id": "401144ef-eb77-4488-abb2-4387d797072d",
   "metadata": {},
   "outputs": [],
   "source": [
    "from fastcore.test import *"
   ]
  },
  {
   "cell_type": "code",
   "execution_count": 61,
   "id": "ba3fbce8-de98-406d-b138-07b60af242f9",
   "metadata": {},
   "outputs": [],
   "source": [
    "test_close(t1,matmul(m1a, m2a))"
   ]
  },
  {
   "cell_type": "code",
   "execution_count": 62,
   "id": "2f5d28f3-e51f-41d2-b558-37f0ddbfdf45",
   "metadata": {},
   "outputs": [
    {
     "name": "stdout",
     "output_type": "stream",
     "text": [
      "485 µs ± 54.6 µs per loop (mean ± std. dev. of 7 runs, 50 loops each)\n"
     ]
    }
   ],
   "source": [
    "%timeit -n 50 matmul(m1a,m2a)"
   ]
  },
  {
   "cell_type": "markdown",
   "id": "273b18a1-4a1e-433b-97e0-a88b92ab3738",
   "metadata": {},
   "source": [
    "# Elementwise Ops"
   ]
  },
  {
   "cell_type": "code",
   "execution_count": 63,
   "id": "a379d418-6de5-48e7-9dee-3a02cb32c860",
   "metadata": {},
   "outputs": [
    {
     "data": {
      "text/plain": [
       "(tensor([10.,  6., -4.]), tensor([2., 8., 7.]))"
      ]
     },
     "execution_count": 63,
     "metadata": {},
     "output_type": "execute_result"
    }
   ],
   "source": [
    "a = tensor([10., 6, -4])\n",
    "b = tensor([2., 8, 7])\n",
    "a,b"
   ]
  },
  {
   "cell_type": "code",
   "execution_count": 64,
   "id": "3f61190a-8568-4902-a432-c968dc4db7d4",
   "metadata": {},
   "outputs": [
    {
     "data": {
      "text/plain": [
       "tensor([12., 14.,  3.])"
      ]
     },
     "execution_count": 64,
     "metadata": {},
     "output_type": "execute_result"
    }
   ],
   "source": [
    "a + b"
   ]
  },
  {
   "cell_type": "code",
   "execution_count": 65,
   "id": "fa7dd845-ddb2-4c5d-b9d5-ff961e2f85b7",
   "metadata": {},
   "outputs": [
    {
     "data": {
      "text/plain": [
       "tensor(0.67)"
      ]
     },
     "execution_count": 65,
     "metadata": {},
     "output_type": "execute_result"
    }
   ],
   "source": [
    "(a < b).float().mean()"
   ]
  },
  {
   "cell_type": "code",
   "execution_count": 66,
   "id": "a7a23a27-43fd-4844-b7d6-b71a151d2054",
   "metadata": {},
   "outputs": [
    {
     "data": {
      "text/plain": [
       "tensor([[1., 2., 3.],\n",
       "        [4., 5., 6.],\n",
       "        [7., 8., 9.]])"
      ]
     },
     "execution_count": 66,
     "metadata": {},
     "output_type": "execute_result"
    }
   ],
   "source": [
    "m = tensor([[1., 2, 3], [4,5,6], [7,8,9]]); m"
   ]
  },
  {
   "cell_type": "code",
   "execution_count": 67,
   "id": "34e4d2cc-f35b-4611-a5f7-4f79fa5057b7",
   "metadata": {},
   "outputs": [
    {
     "data": {
      "text/plain": [
       "tensor(16.88)"
      ]
     },
     "execution_count": 67,
     "metadata": {},
     "output_type": "execute_result"
    }
   ],
   "source": [
    "sf = (m*m).sum()\n",
    "sf.sqrt()"
   ]
  },
  {
   "cell_type": "code",
   "execution_count": 68,
   "id": "8f0dd801-03e5-426c-92cf-957f070ad352",
   "metadata": {},
   "outputs": [],
   "source": [
    "def matmul(a,b):\n",
    "    (ar, ac), (br, bc) = a.shape, b.shape\n",
    "    c = torch.zeros(ar,bc)\n",
    "    for i in range(ar):\n",
    "        for j in range(bc):\n",
    "            c[i,j] = (a[i,:]*b[:,j]).sum()\n",
    "    return c"
   ]
  },
  {
   "cell_type": "code",
   "execution_count": 69,
   "id": "5b94d194-7429-4167-a5dc-736a81ae4152",
   "metadata": {},
   "outputs": [],
   "source": [
    "test_close(t1,matmul(m1, m2))"
   ]
  },
  {
   "cell_type": "code",
   "execution_count": 70,
   "id": "8b576465-dd48-46b3-b929-a8a8712351ea",
   "metadata": {},
   "outputs": [
    {
     "name": "stdout",
     "output_type": "stream",
     "text": [
      "1.08 ms ± 42.8 µs per loop (mean ± std. dev. of 7 runs, 50 loops each)\n"
     ]
    }
   ],
   "source": [
    "%timeit -n 50 _=matmul(m1, m2)"
   ]
  },
  {
   "cell_type": "code",
   "execution_count": 71,
   "id": "3fc1288c-9c42-4a14-99ad-be75029bc7ef",
   "metadata": {},
   "outputs": [
    {
     "data": {
      "text/plain": [
       "tensor([10., 20., 30.])"
      ]
     },
     "execution_count": 71,
     "metadata": {},
     "output_type": "execute_result"
    }
   ],
   "source": [
    "c = tensor([10.,20, 30]); c"
   ]
  },
  {
   "cell_type": "code",
   "execution_count": 72,
   "id": "d9cbfd6a-c77d-4da6-8839-784a261e0dc5",
   "metadata": {},
   "outputs": [
    {
     "data": {
      "text/plain": [
       "tensor([[1., 2., 3.],\n",
       "        [4., 5., 6.],\n",
       "        [7., 8., 9.]])"
      ]
     },
     "execution_count": 72,
     "metadata": {},
     "output_type": "execute_result"
    }
   ],
   "source": [
    "m"
   ]
  },
  {
   "cell_type": "code",
   "execution_count": 73,
   "id": "5be62843-fcd4-4ae3-af43-4a23f1d0bcef",
   "metadata": {},
   "outputs": [
    {
     "data": {
      "text/plain": [
       "tensor([[11., 22., 33.],\n",
       "        [14., 25., 36.],\n",
       "        [17., 28., 39.]])"
      ]
     },
     "execution_count": 73,
     "metadata": {},
     "output_type": "execute_result"
    }
   ],
   "source": [
    "c + m"
   ]
  },
  {
   "cell_type": "code",
   "execution_count": 74,
   "id": "bbd5a11e-f56a-42bf-96a9-e7cdd00155be",
   "metadata": {},
   "outputs": [],
   "source": [
    "digit = m1[0]"
   ]
  },
  {
   "cell_type": "code",
   "execution_count": 75,
   "id": "e7f87447-3ecf-4b3a-92ea-8da7048f1140",
   "metadata": {},
   "outputs": [
    {
     "data": {
      "text/plain": [
       "(torch.Size([784]), torch.Size([784, 10]))"
      ]
     },
     "execution_count": 75,
     "metadata": {},
     "output_type": "execute_result"
    }
   ],
   "source": [
    "digit.shape,m2.shape"
   ]
  },
  {
   "cell_type": "code",
   "execution_count": 76,
   "id": "3b3a9cd7-02aa-45e2-b59e-974a15cd9743",
   "metadata": {},
   "outputs": [
    {
     "data": {
      "text/plain": [
       "torch.Size([784, 1])"
      ]
     },
     "execution_count": 76,
     "metadata": {},
     "output_type": "execute_result"
    }
   ],
   "source": [
    "digit[:,None].shape"
   ]
  },
  {
   "cell_type": "code",
   "execution_count": 77,
   "id": "da707e31-6712-4a6f-aa3d-566926f2d55c",
   "metadata": {},
   "outputs": [
    {
     "data": {
      "text/plain": [
       "torch.Size([784, 10])"
      ]
     },
     "execution_count": 77,
     "metadata": {},
     "output_type": "execute_result"
    }
   ],
   "source": [
    "digit[:,None].expand_as(m2).shape"
   ]
  },
  {
   "cell_type": "code",
   "execution_count": 78,
   "id": "1649a298-2ae0-46de-b728-38939072cfe2",
   "metadata": {},
   "outputs": [
    {
     "data": {
      "text/plain": [
       "torch.Size([784, 10])"
      ]
     },
     "execution_count": 78,
     "metadata": {},
     "output_type": "execute_result"
    }
   ],
   "source": [
    "(digit[:,None]*m2).shape"
   ]
  },
  {
   "cell_type": "code",
   "execution_count": 79,
   "id": "6bd6f97a-7516-47c5-98bd-a4b2346f83b7",
   "metadata": {},
   "outputs": [],
   "source": [
    "def matmul(a,b):\n",
    "    (ar, ac), (br, bc) = a.shape, b.shape\n",
    "    c = torch.zeros(ar,bc)\n",
    "    for i in range(ar):\n",
    "        c[i] = (a[i,:,None] * b).sum(dim=0)\n",
    "    return c"
   ]
  },
  {
   "cell_type": "code",
   "execution_count": 80,
   "id": "130332b8-5c1a-4a39-9110-d920ba2d4f35",
   "metadata": {},
   "outputs": [],
   "source": [
    "test_close(t1,matmul(m1, m2))"
   ]
  },
  {
   "cell_type": "code",
   "execution_count": 81,
   "id": "881e2a2b-b88d-4929-be64-f7e995a2df7e",
   "metadata": {},
   "outputs": [
    {
     "data": {
      "text/plain": [
       "torch.Size([784, 10])"
      ]
     },
     "execution_count": 81,
     "metadata": {},
     "output_type": "execute_result"
    }
   ],
   "source": [
    "m1[0,:,None].expand_as(m2).shape"
   ]
  },
  {
   "cell_type": "code",
   "execution_count": 82,
   "id": "f3180ffd-0905-486e-834a-7e2d0d7e274b",
   "metadata": {},
   "outputs": [
    {
     "data": {
      "text/plain": [
       "tensor([[    -0.42,      0.19,     -0.36,      0.00],\n",
       "        [     0.06,      1.93,      0.28,     -0.50],\n",
       "        [    -0.58,      0.80,      0.36,     -1.26]])"
      ]
     },
     "execution_count": 82,
     "metadata": {},
     "output_type": "execute_result"
    }
   ],
   "source": [
    "t2 = torch.randn(3,4)\n",
    "t2"
   ]
  },
  {
   "cell_type": "code",
   "execution_count": 83,
   "id": "75726a79-45d7-444d-9911-e7b9ae716b63",
   "metadata": {},
   "outputs": [
    {
     "data": {
      "text/plain": [
       "tensor([-0.94,  2.92,  0.28, -1.75])"
      ]
     },
     "execution_count": 83,
     "metadata": {},
     "output_type": "execute_result"
    }
   ],
   "source": [
    "t2.sum(dim=0)"
   ]
  },
  {
   "cell_type": "code",
   "execution_count": 84,
   "id": "3b77eac8-ca50-4132-9208-be58a3907ba5",
   "metadata": {},
   "outputs": [
    {
     "name": "stdout",
     "output_type": "stream",
     "text": [
      "211 µs ± 31.4 µs per loop (mean ± std. dev. of 7 runs, 50 loops each)\n"
     ]
    }
   ],
   "source": [
    "%timeit -n 50 _=matmul(m1, m2)"
   ]
  },
  {
   "cell_type": "code",
   "execution_count": 85,
   "id": "1943a3f4-dfcb-498d-bafc-596cea68845f",
   "metadata": {},
   "outputs": [
    {
     "data": {
      "text/plain": [
       "tensor([[  0.96,  -2.96,  -2.11,  ..., -15.09, -17.69,   0.60],\n",
       "        [  6.89,  -0.34,   0.79,  ..., -17.13, -25.36,  16.23],\n",
       "        [-10.18,   7.38,   4.13,  ...,  -6.73,  -6.79,  -1.58],\n",
       "        ...,\n",
       "        [  7.40,   7.64,  -3.50,  ...,  -1.02, -16.22,   2.07],\n",
       "        [  3.25,   9.52,  -9.37,  ...,   2.98, -19.58,  -1.96],\n",
       "        [ 15.70,   4.12,  -5.62,  ...,   8.08, -12.21,   0.42]])"
      ]
     },
     "execution_count": 85,
     "metadata": {},
     "output_type": "execute_result"
    }
   ],
   "source": [
    "tr = matmul(x_train, weights)\n",
    "tr"
   ]
  },
  {
   "cell_type": "code",
   "execution_count": 86,
   "id": "9bd21d68-e996-4446-bd09-15237540e0ea",
   "metadata": {},
   "outputs": [
    {
     "data": {
      "text/plain": [
       "torch.Size([50000, 10])"
      ]
     },
     "execution_count": 86,
     "metadata": {},
     "output_type": "execute_result"
    }
   ],
   "source": [
    "tr.shape"
   ]
  },
  {
   "cell_type": "code",
   "execution_count": 87,
   "id": "61deae41-90a0-4273-9422-ad10c1e91402",
   "metadata": {},
   "outputs": [
    {
     "name": "stdout",
     "output_type": "stream",
     "text": [
      "CPU times: user 2.47 s, sys: 30.5 ms, total: 2.51 s\n",
      "Wall time: 1.91 s\n"
     ]
    }
   ],
   "source": [
    "%time _=matmul(x_train, weights)"
   ]
  },
  {
   "cell_type": "markdown",
   "id": "9f67dcf3-b590-4162-b500-63dda5325621",
   "metadata": {},
   "source": [
    "# Einstein summation"
   ]
  },
  {
   "cell_type": "code",
   "execution_count": 88,
   "id": "3db8feb4-5726-40f4-bb24-b6a922ba5a64",
   "metadata": {},
   "outputs": [
    {
     "data": {
      "text/plain": [
       "(torch.Size([5, 784]), torch.Size([784, 10]))"
      ]
     },
     "execution_count": 88,
     "metadata": {},
     "output_type": "execute_result"
    }
   ],
   "source": [
    "m1.shape, m2.shape"
   ]
  },
  {
   "cell_type": "code",
   "execution_count": 90,
   "id": "7a2c729b-8abe-41de-828e-4c8f6408d53b",
   "metadata": {},
   "outputs": [
    {
     "data": {
      "text/plain": [
       "torch.Size([5, 784, 10])"
      ]
     },
     "execution_count": 90,
     "metadata": {},
     "output_type": "execute_result"
    }
   ],
   "source": [
    "mr = torch.einsum('ik,kj -> ikj', m1, m2)\n",
    "mr.shape"
   ]
  },
  {
   "cell_type": "code",
   "execution_count": 92,
   "id": "f545d41e-1512-4d94-b0dd-998c5619e64d",
   "metadata": {},
   "outputs": [
    {
     "data": {
      "text/plain": [
       "tensor([[-10.94,  -0.68,  -7.00,  -4.01,  -2.09,  -3.36,   3.91,  -3.44, -11.47,  -2.12],\n",
       "        [ 14.54,   6.00,   2.89,  -4.08,   6.59, -14.74,  -9.28,   2.16, -15.28,  -2.68],\n",
       "        [  2.22,  -3.22,  -4.80,  -6.05,  14.17,  -8.98,  -4.79,  -5.44, -20.68,  13.57],\n",
       "        [ -6.71,   8.90,  -7.46,  -7.90,   2.70,  -4.73, -11.03, -12.98,  -6.44,   3.64],\n",
       "        [ -2.44,  -6.40,  -2.40,  -9.04,  11.18,  -5.77,  -8.92,  -3.79,  -8.98,   5.28]])"
      ]
     },
     "execution_count": 92,
     "metadata": {},
     "output_type": "execute_result"
    }
   ],
   "source": [
    "mr.sum(1)"
   ]
  },
  {
   "cell_type": "code",
   "execution_count": 95,
   "id": "6da060fb-8e2a-47a8-9aca-cb4301d33749",
   "metadata": {},
   "outputs": [
    {
     "data": {
      "text/plain": [
       "tensor([[-10.94,  -0.68,  -7.00,  -4.01,  -2.09,  -3.36,   3.91,  -3.44, -11.47,  -2.12],\n",
       "        [ 14.54,   6.00,   2.89,  -4.08,   6.59, -14.74,  -9.28,   2.16, -15.28,  -2.68],\n",
       "        [  2.22,  -3.22,  -4.80,  -6.05,  14.17,  -8.98,  -4.79,  -5.44, -20.68,  13.57],\n",
       "        [ -6.71,   8.90,  -7.46,  -7.90,   2.70,  -4.73, -11.03, -12.98,  -6.44,   3.64],\n",
       "        [ -2.44,  -6.40,  -2.40,  -9.04,  11.18,  -5.77,  -8.92,  -3.79,  -8.98,   5.28]])"
      ]
     },
     "execution_count": 95,
     "metadata": {},
     "output_type": "execute_result"
    }
   ],
   "source": [
    "torch.einsum('ik,kj -> ij', m1, m2)"
   ]
  },
  {
   "cell_type": "code",
   "execution_count": 96,
   "id": "13dde239-c18e-4817-9f7a-66e5e48ffc98",
   "metadata": {},
   "outputs": [],
   "source": [
    "def matmul(a,b): return torch.einsum('ik,kj -> ij', a, b)"
   ]
  },
  {
   "cell_type": "code",
   "execution_count": 97,
   "id": "1e37b2e2-6125-41b7-a492-1bdc97f81201",
   "metadata": {},
   "outputs": [],
   "source": [
    "test_close(tr, matmul(x_train, weights), eps=1e-3)"
   ]
  },
  {
   "cell_type": "code",
   "execution_count": 99,
   "id": "681cd28d-a5cc-42e6-a781-66292abd5352",
   "metadata": {},
   "outputs": [
    {
     "name": "stdout",
     "output_type": "stream",
     "text": [
      "12.3 ms ± 1.18 ms per loop (mean ± std. dev. of 7 runs, 5 loops each)\n"
     ]
    }
   ],
   "source": [
    "%timeit -n 5 _=matmul(x_train, weights)"
   ]
  },
  {
   "cell_type": "markdown",
   "id": "8ed7baa8-83d2-4ce4-bd01-cfa8ce6abaff",
   "metadata": {},
   "source": [
    "# pytorch op"
   ]
  },
  {
   "cell_type": "markdown",
   "id": "dfe4171b-5d0d-4c09-9d4b-01c7ee957621",
   "metadata": {},
   "source": [
    "we can use pytorch's function or operator directly for matrix multiplication"
   ]
  },
  {
   "cell_type": "code",
   "execution_count": 100,
   "id": "40b562ad-511a-4866-89ea-d223cda28164",
   "metadata": {},
   "outputs": [],
   "source": [
    "test_close(tr, x_train@weights, eps = 1e-3)"
   ]
  },
  {
   "cell_type": "code",
   "execution_count": 101,
   "id": "9b5a81ad-18c8-4108-aed9-ddbd903fd7b9",
   "metadata": {},
   "outputs": [
    {
     "name": "stdout",
     "output_type": "stream",
     "text": [
      "12 ms ± 775 µs per loop (mean ± std. dev. of 7 runs, 5 loops each)\n"
     ]
    }
   ],
   "source": [
    "%timeit -n 5 _=torch.matmul(x_train, weights)"
   ]
  },
  {
   "cell_type": "markdown",
   "id": "a39836eb-383b-4b5d-adb5-19a3b3a9796a",
   "metadata": {},
   "source": [
    "# CUDA:"
   ]
  },
  {
   "cell_type": "code",
   "execution_count": 102,
   "id": "8399089d-2dac-4713-b955-f39160b09692",
   "metadata": {},
   "outputs": [],
   "source": [
    "def matmul(grid, a, b, c):\n",
    "    i, j = grid\n",
    "    tmp = 0.\n",
    "    if i < c.shape[0] and j < c.shape[1]:\n",
    "        for k in range(a.shape[1]):\n",
    "            tmp += a[i,k] * b[k,j]\n",
    "        c[i,j] = tmp\n",
    "    "
   ]
  },
  {
   "cell_type": "code",
   "execution_count": 104,
   "id": "5f05c1cc-6ad2-43e4-8cbe-7f4e8ef81eaa",
   "metadata": {},
   "outputs": [
    {
     "data": {
      "text/plain": [
       "tensor([[-10.94,   0.00,   0.00,   0.00,   0.00,   0.00,   0.00,   0.00,   0.00,   0.00],\n",
       "        [  0.00,   0.00,   0.00,   0.00,   0.00,   0.00,   0.00,   0.00,   0.00,   0.00],\n",
       "        [  0.00,   0.00,   0.00,   0.00,   0.00,   0.00,   0.00,   0.00,   0.00,   0.00],\n",
       "        [  0.00,   0.00,   0.00,   0.00,   0.00,   0.00,   0.00,   0.00,   0.00,   0.00],\n",
       "        [  0.00,   0.00,   0.00,   0.00,   0.00,   0.00,   0.00,   0.00,   0.00,   0.00]])"
      ]
     },
     "execution_count": 104,
     "metadata": {},
     "output_type": "execute_result"
    }
   ],
   "source": [
    "res = torch.zeros(ar, bc)\n",
    "matmul((0,0), m1, m2, res)\n",
    "res"
   ]
  },
  {
   "cell_type": "code",
   "execution_count": 105,
   "id": "034fc796-c056-4dc7-8a78-a2ffefb86a63",
   "metadata": {},
   "outputs": [
    {
     "data": {
      "text/plain": [
       "tensor([[-10.94,  -0.68,  -7.00,  -4.01,  -2.09,  -3.36,   3.91,  -3.44, -11.47,  -2.12],\n",
       "        [ 14.54,   6.00,   2.89,  -4.08,   6.59, -14.74,  -9.28,   2.16, -15.28,  -2.68],\n",
       "        [  2.22,  -3.22,  -4.80,  -6.05,  14.17,  -8.98,  -4.79,  -5.44, -20.68,  13.57],\n",
       "        [ -6.71,   8.90,  -7.46,  -7.90,   2.70,  -4.73, -11.03, -12.98,  -6.44,   3.64],\n",
       "        [ -2.44,  -6.40,  -2.40,  -9.04,  11.18,  -5.77,  -8.92,  -3.79,  -8.98,   5.28]])"
      ]
     },
     "execution_count": 105,
     "metadata": {},
     "output_type": "execute_result"
    }
   ],
   "source": [
    "def launch_kernel(kernel, x_grid, y_grid, *args, **kwargs):\n",
    "    for i in range(x_grid):\n",
    "        for j in range(y_grid):\n",
    "            kernel((i,j),*args, **kwargs)\n",
    "res = torch.zeros(ar,bc)\n",
    "launch_kernel(matmul,ar,bc,m1,m2,res)\n",
    "res"
   ]
  },
  {
   "cell_type": "code",
   "execution_count": 106,
   "id": "d11fcbdb-c5e4-462e-be3c-b1eade0da40d",
   "metadata": {},
   "outputs": [],
   "source": [
    "from numba import cuda\n"
   ]
  },
  {
   "cell_type": "code",
   "execution_count": 107,
   "id": "c647ec92-a30c-45f7-8e35-2ff03ff13630",
   "metadata": {},
   "outputs": [],
   "source": [
    "@cuda.jit\n",
    "def matmul(a,b,c):\n",
    "    i, j = cuda.grid(2)\n",
    "    if i < c.shape[0] and j < c.shape[1]:\n",
    "        tmp = 0.\n",
    "        for k in range(a.shape[1]): tmp += a[i,k] * b[k,j]\n",
    "        c[i,j] = tmp\n",
    "        "
   ]
  },
  {
   "cell_type": "code",
   "execution_count": 108,
   "id": "4eee0af2-497d-461e-a835-e570a1cec53a",
   "metadata": {},
   "outputs": [],
   "source": [
    "r = np.zeros(tr.shape)\n",
    "m1g, m2g, rg = map(cuda.to_device, (x_train, weights, r))"
   ]
  },
  {
   "cell_type": "code",
   "execution_count": 109,
   "id": "43cd397c-9cdd-416b-8239-3159e98ada4c",
   "metadata": {},
   "outputs": [
    {
     "data": {
      "text/plain": [
       "(50000, 10)"
      ]
     },
     "execution_count": 109,
     "metadata": {},
     "output_type": "execute_result"
    }
   ],
   "source": [
    "r.shape"
   ]
  },
  {
   "cell_type": "code",
   "execution_count": 110,
   "id": "8e6d74f5-85a4-4ba6-bcdf-80eab3e842bd",
   "metadata": {},
   "outputs": [
    {
     "data": {
      "text/plain": [
       "(3125, 1)"
      ]
     },
     "execution_count": 110,
     "metadata": {},
     "output_type": "execute_result"
    }
   ],
   "source": [
    "TPB = 16\n",
    "rr,rc = r.shape\n",
    "blockspergrid = (math.ceil(rr / TPB), math.ceil(rc / TPB))\n",
    "blockspergrid"
   ]
  },
  {
   "cell_type": "code",
   "execution_count": 111,
   "id": "d02d2734-285d-44b5-8dfc-320f1af013b3",
   "metadata": {},
   "outputs": [],
   "source": [
    "matmul[blockspergrid, (TPB,TPB)](m1g,m2g,rg)\n",
    "r = rg.copy_to_host()\n",
    "test_close(tr, r, eps=1e-3)"
   ]
  },
  {
   "cell_type": "code",
   "execution_count": 112,
   "id": "416bd789-0c21-4b48-ad90-d574369cbe15",
   "metadata": {},
   "outputs": [
    {
     "name": "stdout",
     "output_type": "stream",
     "text": [
      "12.8 ms ± 4.17 ms per loop (mean ± std. dev. of 7 runs, 10 loops each)\n"
     ]
    }
   ],
   "source": [
    "%%timeit -n 10\n",
    "matmul[blockspergrid, (TPB,TPB)](m1g,m2g,rg)\n",
    "r = rg.copy_to_host()"
   ]
  },
  {
   "cell_type": "code",
   "execution_count": 117,
   "id": "7f187cbe-40ef-4eb0-aaa5-8777b938a4cb",
   "metadata": {},
   "outputs": [],
   "source": [
    "m1c,m2c = x_train.cuda(),weights.cuda()"
   ]
  },
  {
   "cell_type": "code",
   "execution_count": 118,
   "id": "364b2c96-cdc2-4787-be61-14db439e815b",
   "metadata": {},
   "outputs": [],
   "source": [
    "r=(m1c@m2c).cpu()"
   ]
  },
  {
   "cell_type": "code",
   "execution_count": 119,
   "id": "042c81b0-9b05-4bb1-a06a-04880b27f2b6",
   "metadata": {},
   "outputs": [
    {
     "name": "stdout",
     "output_type": "stream",
     "text": [
      "The slowest run took 8.29 times longer than the fastest. This could mean that an intermediate result is being cached.\n",
      "2.85 ms ± 3.36 ms per loop (mean ± std. dev. of 7 runs, 10 loops each)\n"
     ]
    }
   ],
   "source": [
    "%timeit -n 10 r=(m1c@m2c).cpu()"
   ]
  },
  {
   "cell_type": "code",
   "execution_count": null,
   "id": "af4173cc-8f98-45b9-b40d-def04f10559e",
   "metadata": {},
   "outputs": [],
   "source": []
  },
  {
   "cell_type": "code",
   "execution_count": null,
   "id": "62c97c14-d057-4963-bd1c-0ab82a7ea9ad",
   "metadata": {},
   "outputs": [],
   "source": []
  },
  {
   "cell_type": "code",
   "execution_count": null,
   "id": "d1e70535-2da4-466c-aba4-cf273eb55e5b",
   "metadata": {},
   "outputs": [],
   "source": []
  },
  {
   "cell_type": "code",
   "execution_count": null,
   "id": "814d0bc2-9dda-48c0-8e46-08a82ee73fcf",
   "metadata": {},
   "outputs": [],
   "source": []
  },
  {
   "cell_type": "code",
   "execution_count": null,
   "id": "5ec487e0-310d-4298-8421-32afa189c383",
   "metadata": {},
   "outputs": [],
   "source": []
  },
  {
   "cell_type": "code",
   "execution_count": null,
   "id": "63bf5a0a-3e46-434a-aab1-e929364e8d7d",
   "metadata": {},
   "outputs": [],
   "source": []
  },
  {
   "cell_type": "code",
   "execution_count": null,
   "id": "1954a80c-fede-4130-9f9e-7dd01c00ab8f",
   "metadata": {},
   "outputs": [],
   "source": []
  },
  {
   "cell_type": "code",
   "execution_count": null,
   "id": "718be60d-fd3b-4131-9f48-192db6b9f16c",
   "metadata": {},
   "outputs": [],
   "source": []
  },
  {
   "cell_type": "code",
   "execution_count": null,
   "id": "0e2da5a3-5a3e-46f6-85bc-bf41dcacfc0e",
   "metadata": {},
   "outputs": [],
   "source": []
  },
  {
   "cell_type": "code",
   "execution_count": null,
   "id": "3eddd26c-4d1c-4907-b39a-339228048a7a",
   "metadata": {},
   "outputs": [],
   "source": []
  },
  {
   "cell_type": "code",
   "execution_count": null,
   "id": "24636fd7-7b09-454e-9f0b-bd8657a135d7",
   "metadata": {},
   "outputs": [],
   "source": []
  },
  {
   "cell_type": "code",
   "execution_count": null,
   "id": "eb2d9690-8f33-485b-be9a-f723bdbe8d88",
   "metadata": {},
   "outputs": [],
   "source": []
  },
  {
   "cell_type": "code",
   "execution_count": null,
   "id": "d703cc6a-5034-4780-99b3-91f491aa16b1",
   "metadata": {},
   "outputs": [],
   "source": []
  },
  {
   "cell_type": "code",
   "execution_count": null,
   "id": "ad31b8dc-9b69-454e-ac2e-4b1611313a6a",
   "metadata": {},
   "outputs": [],
   "source": []
  },
  {
   "cell_type": "code",
   "execution_count": null,
   "id": "4493b32d-9404-459c-8f47-795ed71dd3f3",
   "metadata": {},
   "outputs": [],
   "source": []
  },
  {
   "cell_type": "code",
   "execution_count": null,
   "id": "cab219e1-91ae-4c68-8abb-d1cedb06f045",
   "metadata": {},
   "outputs": [],
   "source": []
  },
  {
   "cell_type": "code",
   "execution_count": null,
   "id": "51de5577-7c1e-40fd-87e1-9d35aa6714a8",
   "metadata": {},
   "outputs": [],
   "source": []
  }
 ],
 "metadata": {
  "kernelspec": {
   "display_name": "Python 3 (ipykernel)",
   "language": "python",
   "name": "python3"
  },
  "language_info": {
   "codemirror_mode": {
    "name": "ipython",
    "version": 3
   },
   "file_extension": ".py",
   "mimetype": "text/x-python",
   "name": "python",
   "nbconvert_exporter": "python",
   "pygments_lexer": "ipython3",
   "version": "3.10.8"
  }
 },
 "nbformat": 4,
 "nbformat_minor": 5
}
