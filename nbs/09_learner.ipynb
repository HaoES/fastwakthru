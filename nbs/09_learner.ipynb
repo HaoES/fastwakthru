{
 "cells": [
  {
   "cell_type": "code",
   "execution_count": 23,
   "id": "b98d547b-3ad3-49a0-a931-66bb5b1c813c",
   "metadata": {},
   "outputs": [],
   "source": [
    "import math,torch,matplotlib.pyplot as plt\n",
    "import fastcore.all as fc\n",
    "from collections.abc import Mapping\n",
    "from operator import attrgetter\n",
    "from functools import partial\n",
    "from copy import copy\n",
    "\n",
    "from torch import optim\n",
    "from torch.utils.data import DataLoader, default_collate\n",
    "import torch.nn.functional as F\n",
    "\n",
    "from miniai.conv import *\n",
    "\n",
    "from fastprogress import progress_bar,master_bar"
   ]
  },
  {
   "cell_type": "code",
   "execution_count": 24,
   "id": "084e0796-9225-4797-bafd-de064a500b1b",
   "metadata": {},
   "outputs": [],
   "source": [
    "import matplotlib as mpl\n",
    "import torchvision.transforms.functional as TF\n",
    "from contextlib import contextmanager\n",
    "from torch import nn,tensor\n",
    "from datasets import load_dataset,load_dataset_builder\n",
    "from miniai.datasets import *\n",
    "from miniai.conv import *\n",
    "import logging\n",
    "from fastcore.test import test_close"
   ]
  },
  {
   "cell_type": "code",
   "execution_count": 25,
   "id": "efec4327-2c0d-4785-8cf2-10f8ea79daa6",
   "metadata": {},
   "outputs": [],
   "source": [
    "torch.set_printoptions(precision=2, linewidth=140, sci_mode=False)\n",
    "torch.manual_seed(1)\n",
    "mpl.rcParams['image.cmap'] = 'gray'"
   ]
  },
  {
   "cell_type": "code",
   "execution_count": 26,
   "id": "7f4d1d8f-b687-487b-84e9-14660a9e59ce",
   "metadata": {},
   "outputs": [],
   "source": [
    "logging.disable(logging.WARNING)"
   ]
  },
  {
   "cell_type": "markdown",
   "id": "91bb0deb-0ffb-49fa-b204-26e9910a9401",
   "metadata": {},
   "source": [
    "# Learner"
   ]
  },
  {
   "cell_type": "code",
   "execution_count": 27,
   "id": "0cfe2dc5-5f70-4ace-abe3-10405ce4f6ac",
   "metadata": {},
   "outputs": [
    {
     "data": {
      "application/vnd.jupyter.widget-view+json": {
       "model_id": "da6878fb5c5a48019cea23e9a605d73d",
       "version_major": 2,
       "version_minor": 0
      },
      "text/plain": [
       "  0%|          | 0/2 [00:00<?, ?it/s]"
      ]
     },
     "metadata": {},
     "output_type": "display_data"
    }
   ],
   "source": [
    "x,y = 'image','label'\n",
    "name = \"fashion_mnist\"\n",
    "dsd = load_dataset(name)"
   ]
  },
  {
   "cell_type": "code",
   "execution_count": 28,
   "id": "6794c5db-365b-4b7a-995f-daafdfcb8c4e",
   "metadata": {},
   "outputs": [],
   "source": [
    "@inplace \n",
    "def transformi(b): b[x] = [torch.flatten(TF.to_tensor(o)) for o in b[x]]"
   ]
  },
  {
   "cell_type": "code",
   "execution_count": 29,
   "id": "eca86b34-ca70-4767-8b13-75a985ba8901",
   "metadata": {},
   "outputs": [],
   "source": [
    "bs = 1024\n",
    "tds = dsd.with_transform(transformi)"
   ]
  },
  {
   "cell_type": "code",
   "execution_count": 45,
   "id": "f6e035aa-c1c6-43d7-9f34-d3e994c8da04",
   "metadata": {},
   "outputs": [],
   "source": [
    "class DataLoaders:\n",
    "    def __init__(self, *dls): self.train, self.valid = dls[:2]\n",
    "    \n",
    "    @classmethod \n",
    "    def from_dd(cls, dd, batch_size, as_tuple = True):\n",
    "        return cls(*[DataLoader(ds, batch_size, num_workers = 4, collate_fn = collate_dict(ds)) for ds in dd.values()])"
   ]
  },
  {
   "cell_type": "code",
   "execution_count": 46,
   "id": "43b9e0c2-b40a-433b-ba45-7886c28e8df2",
   "metadata": {},
   "outputs": [
    {
     "data": {
      "text/plain": [
       "(torch.Size([1024, 784]), tensor([9, 0, 0, 3, 0, 2, 7, 2, 5, 5]))"
      ]
     },
     "execution_count": 46,
     "metadata": {},
     "output_type": "execute_result"
    }
   ],
   "source": [
    "dls = DataLoaders.from_dd(tds, bs)\n",
    "dt = dls.train\n",
    "xb, yb = next(iter(dt))\n",
    "xb.shape, yb[:10]"
   ]
  },
  {
   "cell_type": "code",
   "execution_count": 47,
   "id": "ba12a3bc-0990-4e02-a71d-abf606a71eba",
   "metadata": {},
   "outputs": [],
   "source": [
    "class Learner:\n",
    "    def __init__(self, model, dls, loss_func, lr, opt_func = optim.SGD): fc.store_attr()\n",
    "    \n",
    "    def one_batch(self):\n",
    "        self.xb, self.yb = to_device(self.batch)\n",
    "        self.preds = self.model(self.xb)\n",
    "        self.loss = self.loss_func(self.preds, self.yb)\n",
    "        if self.model.training:\n",
    "            self.loss.backward()\n",
    "            self.opt.step()\n",
    "            self.opt.zero_grad()\n",
    "        with torch.no_grad(): self.calc_stats()\n",
    "    \n",
    "    def calc_stats(self):\n",
    "        acc = (self.preds.argmax(dim=1)==self.yb).float().sum() \n",
    "        self.accs.append(acc)\n",
    "        n = len(self.xb)\n",
    "        self.losses.append(self.loss * n)\n",
    "        self.ns.append(n)\n",
    "    \n",
    "    def one_epoch(self, train):\n",
    "        self.model.training = train\n",
    "        dl = self.dls.train if train else self.dls.valid\n",
    "        for self.num, self.batch in enumerate(dl): self.one_batch()\n",
    "        n = len(self.ns)\n",
    "        print(self.epoch, self.model.training, sum(self.losses).item()/n, sum(self.accs).item()/n)\n",
    "        \n",
    "    def fit(self, n_epochs):\n",
    "        self.accs, self.losses, self.ns = [], [], []\n",
    "        self.model.to(def_device)\n",
    "        self.opt = self.opt_func(self.model.parameters(), self.lr)\n",
    "        self.n_epochs = n_epochs\n",
    "        for self.epoch in range(n_epochs):\n",
    "            self.one_epoch(True)\n",
    "            self.one_epoch(False)\n",
    "    "
   ]
  },
  {
   "cell_type": "code",
   "execution_count": 48,
   "id": "75db4bfb-be08-40db-a4c0-177c82ea77d3",
   "metadata": {},
   "outputs": [],
   "source": [
    "m,nh = 28*28,50\n",
    "model = nn.Sequential(nn.Linear(m,nh), nn.ReLU(), nn.Linear(nh,10))"
   ]
  },
  {
   "cell_type": "code",
   "execution_count": 49,
   "id": "aa6e324b-5e38-4278-939a-7039c13e2f7e",
   "metadata": {},
   "outputs": [
    {
     "name": "stdout",
     "output_type": "stream",
     "text": [
      "0 True 1200.5618379237287 624.9491525423729\n",
      "0 False 1161.5954483695652 631.0579710144928\n"
     ]
    }
   ],
   "source": [
    "learn = Learner(model, dls, F.cross_entropy, lr=0.2)\n",
    "learn.fit(1)"
   ]
  },
  {
   "cell_type": "markdown",
   "id": "d8144afa-401e-4bf9-b3fb-d9beceb1761e",
   "metadata": {},
   "source": [
    "## Basic Callbacks Learner"
   ]
  },
  {
   "cell_type": "code",
   "execution_count": 76,
   "id": "2ff956d9-2ccc-432e-8c05-8d37a2000015",
   "metadata": {},
   "outputs": [],
   "source": [
    "class CancelFitException(Exception): pass\n",
    "class CancelBatchException(Exception): pass\n",
    "class CancelEpochException(Exception): pass"
   ]
  },
  {
   "cell_type": "code",
   "execution_count": 93,
   "id": "4e3f0554-2b14-4698-bcd7-cb0c08878856",
   "metadata": {},
   "outputs": [],
   "source": [
    "def run_cbs(cbs, method_nm):\n",
    "    for cb in sorted(cbs, key=attrgetter('order')):\n",
    "        method = getattr(cb, method_nm, None)\n",
    "        if method is not None: method()"
   ]
  },
  {
   "cell_type": "code",
   "execution_count": 94,
   "id": "000d8cca-e998-42a1-8945-69feb5ae4b9d",
   "metadata": {},
   "outputs": [],
   "source": [
    "class Callback(): order = 0"
   ]
  },
  {
   "cell_type": "code",
   "execution_count": 95,
   "id": "fd3e6a8c-1c2c-4e80-a787-52ffb5f8e57c",
   "metadata": {},
   "outputs": [],
   "source": [
    "class CompletionCB(Callback):\n",
    "    def before_fit(self): self.count = 0\n",
    "    def after_batch(self): self.count += 1\n",
    "    def after_fit(self): print(f'Completed {self.count} batches')"
   ]
  },
  {
   "cell_type": "code",
   "execution_count": 96,
   "id": "4e2d1e02-7282-4f7a-95dd-78519653a947",
   "metadata": {},
   "outputs": [
    {
     "name": "stdout",
     "output_type": "stream",
     "text": [
      "Completed 1 batches\n"
     ]
    }
   ],
   "source": [
    "cbs = [CompletionCB()]\n",
    "run_cbs(cbs, 'before_fit')\n",
    "run_cbs(cbs, 'after_batch')\n",
    "run_cbs(cbs, 'after_fit')"
   ]
  },
  {
   "cell_type": "code",
   "execution_count": 101,
   "id": "1dd9e163-446e-4890-b737-4c50c97caa3c",
   "metadata": {},
   "outputs": [],
   "source": [
    "class Learner():\n",
    "    def __init__(self, model, dls, loss_func, lr, cbs, opt_func = optim.SGD):\n",
    "        fc.store_attr()\n",
    "        for cb in cbs: cb.learn = self\n",
    "        \n",
    "    def one_batch(self):\n",
    "        self.preds = self.model(self.batch[0])\n",
    "        self.loss = self.loss_func(self.preds,self.batch[1])\n",
    "        if self.model.training:\n",
    "            self.loss.backward()\n",
    "            self.opt.step()\n",
    "            self.opt.zero_grad()\n",
    "        \n",
    "    def one_epoch(self, train):\n",
    "        self.model.train(train)\n",
    "        self.dl = self.dls.train if train else self.dls.valid\n",
    "        try: \n",
    "            self.callback('before_epoch')\n",
    "            for self.iter, self.batch in enumerate(self.dl):\n",
    "                try:\n",
    "                    self.callback('before_batch')\n",
    "                    self.one_batch()\n",
    "                    self.callback('after_batch')\n",
    "                except CancelBatchException: pass\n",
    "            self.callback('after_epoch')\n",
    "        except CancelEpochException: pass\n",
    "    \n",
    "    def fit(self, n_epochs):\n",
    "        self.n_epochs = n_epochs\n",
    "        self.epochs = range(n_epochs)\n",
    "        self.opt = self.opt_func(self.model.parameters(), self.lr)\n",
    "        try: \n",
    "            self.callback('before_fit')\n",
    "            for self.epoch in self.epochs:\n",
    "                self.one_epoch(True)\n",
    "                self.one_epoch(False)\n",
    "            self.callback('after_fit')\n",
    "        except CancelFitException: pass\n",
    "    \n",
    "    def callback(self, method_nm): run_cbs(self.cbs, method_nm)"
   ]
  },
  {
   "cell_type": "code",
   "execution_count": 102,
   "id": "c29179c5-c21e-4177-b8cd-46dfda025a85",
   "metadata": {},
   "outputs": [],
   "source": [
    "m,nh = 28*28,50\n",
    "def get_model(): return nn.Sequential(nn.Linear(m,nh), nn.ReLU(), nn.Linear(nh,10))"
   ]
  },
  {
   "cell_type": "code",
   "execution_count": 103,
   "id": "0a1b8de0-210f-48c3-9391-a72c2d4b7d3d",
   "metadata": {},
   "outputs": [
    {
     "name": "stdout",
     "output_type": "stream",
     "text": [
      "Completed 69 batches\n"
     ]
    }
   ],
   "source": [
    "model = get_model()\n",
    "learn = Learner(model, dls, F.cross_entropy, lr=0.2, cbs=[CompletionCB()])\n",
    "learn.fit(1)"
   ]
  },
  {
   "cell_type": "code",
   "execution_count": 109,
   "id": "025d9679-bad3-4fe6-8a12-08df057232a0",
   "metadata": {},
   "outputs": [],
   "source": [
    "class SingleBatchCB(Callback):\n",
    "    order = 1\n",
    "    def after_batch(self): raise CancelEpochException()"
   ]
  },
  {
   "cell_type": "code",
   "execution_count": 110,
   "id": "19922d2e-f484-4397-8bde-0918bdf517a0",
   "metadata": {},
   "outputs": [
    {
     "name": "stdout",
     "output_type": "stream",
     "text": [
      "Completed 2 batches\n"
     ]
    }
   ],
   "source": [
    "learn = Learner(model, dls, F.cross_entropy, lr=0.2, cbs=[SingleBatchCB(),CompletionCB()])\n",
    "learn.fit(1)"
   ]
  },
  {
   "cell_type": "markdown",
   "id": "0c70fe13-ace0-4da3-8a59-b1230de5cec0",
   "metadata": {},
   "source": [
    "## Metrics"
   ]
  },
  {
   "cell_type": "code",
   "execution_count": 50,
   "id": "269bfe18-f372-4c08-ac01-d342c15e115d",
   "metadata": {},
   "outputs": [],
   "source": [
    "class Metric:\n",
    "    def __init__(self): self.reset()\n",
    "    def reset(self): self.vals, self.ns = [], []\n",
    "    def add(self, inp, targ = None, n = 1):\n",
    "        self.last = self.calc(inp, targ)\n",
    "        self.vals.append(self.last)\n",
    "        self.ns.append(n)\n",
    "    @property\n",
    "    def value(self):\n",
    "        ns = tensor(self.ns)\n",
    "        return (tensor(self.vals)*ns).sum()/ns.sum()\n",
    "    def calc(self, inps, targs): return inps"
   ]
  },
  {
   "cell_type": "code",
   "execution_count": 51,
   "id": "259b45a6-e8ce-4c70-ba6d-7b61c9756da8",
   "metadata": {},
   "outputs": [],
   "source": [
    "class Accuracy(Metric):\n",
    "    def calc(self, inps, targs): return (inps == targs).float().mean()"
   ]
  },
  {
   "cell_type": "code",
   "execution_count": 52,
   "id": "f105574e-1343-4e54-bf31-867604b7e2a6",
   "metadata": {},
   "outputs": [
    {
     "data": {
      "text/plain": [
       "tensor(0.45)"
      ]
     },
     "execution_count": 52,
     "metadata": {},
     "output_type": "execute_result"
    }
   ],
   "source": [
    "acc = Accuracy()\n",
    "acc.add(tensor([0, 1, 2, 0, 1, 2]), tensor([0, 1, 1, 2, 1, 0]))\n",
    "acc.add(tensor([1, 1, 2, 0, 1]), tensor([0, 1, 1, 2, 1]))\n",
    "acc.value"
   ]
  },
  {
   "cell_type": "code",
   "execution_count": 53,
   "id": "a41eb412-a770-42ff-862a-a0b9a86665b3",
   "metadata": {},
   "outputs": [
    {
     "data": {
      "text/plain": [
       "(tensor(0.62), 0.62)"
      ]
     },
     "execution_count": 53,
     "metadata": {},
     "output_type": "execute_result"
    }
   ],
   "source": [
    "loss = Metric()\n",
    "loss.add(0.6, n=32)\n",
    "loss.add(0.9, n=2)\n",
    "loss.value, round((0.6*32+0.9*2)/(32+2), 2)"
   ]
  },
  {
   "cell_type": "markdown",
   "id": "52d3f272-677a-4a5f-b945-dd30dd5a2b3f",
   "metadata": {},
   "source": [
    "# Some Callbacks"
   ]
  },
  {
   "cell_type": "code",
   "execution_count": null,
   "id": "df939ee9-ccfa-44d3-9e35-1660e40c7f71",
   "metadata": {},
   "outputs": [],
   "source": [
    "class DeviceCB(Callback):\n",
    "    def __init__(self, device=def_device): fc.store_attr()\n",
    "    def before_fit(self): self.learn.model.to(self.device)\n",
    "    def before_batch(self): self.learn.batch = to_device(self.learn.batch, device = self.device)"
   ]
  },
  {
   "cell_type": "markdown",
   "id": "4222d255-cc9d-41fc-82f6-5ad034aa89ae",
   "metadata": {},
   "source": [
    "## Callbacks Learner"
   ]
  },
  {
   "cell_type": "code",
   "execution_count": 54,
   "id": "2cf9ea4f-a3e2-4a43-9b08-cc90f66bc161",
   "metadata": {},
   "outputs": [],
   "source": [
    "def identity(*args):\n",
    "    if not args: return\n",
    "    x, *args = args\n",
    "    return (x,) + args if args else x"
   ]
  },
  {
   "cell_type": "code",
   "execution_count": 55,
   "id": "a957b503-ec5b-4c54-9352-9a139ef670d4",
   "metadata": {},
   "outputs": [],
   "source": [
    "class CancelFitException(Exception): pass\n",
    "class CancelBatchException(Exception): pass\n",
    "class CancelEpochException(Exception): pass"
   ]
  },
  {
   "cell_type": "code",
   "execution_count": 58,
   "id": "153e09cc-310b-4417-ba1f-c113c89d2453",
   "metadata": {},
   "outputs": [],
   "source": [
    "class with_cbs:\n",
    "    def __init__(self, nm): self.nm = nm\n",
    "    def __call__(self, f):\n",
    "        def _f(o, *args, **kwargs):\n",
    "            try:\n",
    "                o.callback(f'before_{self.nm}')\n",
    "                f(o, *args, **kwargs)\n",
    "                o.callback(f'after_{self.nm}')\n",
    "            except globals()[f'Cancel{self.nm.title()}Exception']: pass\n",
    "        return _f"
   ]
  },
  {
   "cell_type": "code",
   "execution_count": 61,
   "id": "033cdc44-8c40-47a0-88e8-c21065c0c6b3",
   "metadata": {},
   "outputs": [],
   "source": [
    "class Learner:\n",
    "    def __init__(self, model, dls, loss_func, lr, cbs, opt_func = optim.SGD): \n",
    "        fc.store_attr()\n",
    "        for cb in cbs: cb.learn = self\n",
    "    \n",
    "    @with_cbs('batch')\n",
    "    def one_batch(self):\n",
    "        self.predict()\n",
    "        self.get_loss()\n",
    "        if self.model.training:\n",
    "            self.backward()\n",
    "            self.step()\n",
    "            self.zero_grad()\n",
    "            \n",
    "    def one_epoch(self, train):\n",
    "        self.model.train(train)\n",
    "        self.dl = self.dls.train if train else self.dls.valid\n",
    "        self._one_epoch()\n",
    "    \n",
    "    @with_cbs('epoch')\n",
    "    def _one_epoch(self):\n",
    "        for self.iter, self.batch in enumerate(self.dl): self.one_batch()\n",
    "        \n",
    "    def fit(self, n_epochs):\n",
    "        self.n_epochs = n_epochs\n",
    "        self.epochs = range(n_epochs)\n",
    "        self.opt = self.opt_func(self.model.parameters(), self.lr)\n",
    "        self.fit()\n",
    "        \n",
    "    @with_cbs('fit')\n",
    "    def _fit(self):\n",
    "        for self.epoch in self.epochs:\n",
    "            self.one_epoch(True)\n",
    "            self.one_epoch(False)\n",
    "            \n",
    "    def __getattr__(self, name):\n",
    "        if name in ('predict', 'get_loss', 'backward', 'step', 'zero_grad'): return partial(self.callback, name)\n",
    "        raise AttributeError(name)\n",
    "    \n",
    "    def callback(self, method_nm):\n",
    "        for cb in sorted(self.cbs, key=attrgetter('order')): getattr(cb, method_nm, identity)()"
   ]
  },
  {
   "cell_type": "code",
   "execution_count": 62,
   "id": "5e319d49-2a85-4a76-beef-e07da136d92b",
   "metadata": {},
   "outputs": [],
   "source": [
    "class Callback(): order= 0"
   ]
  },
  {
   "cell_type": "code",
   "execution_count": 63,
   "id": "4947c03e-7a38-475a-9e11-4d4b895a57e5",
   "metadata": {},
   "outputs": [],
   "source": [
    "class TrainCB(Callback):\n",
    "    def predict(self): self.learn.preds = self.learn.model(self.learn.batch[0])\n",
    "    def get_loss(self): self.learn.loss = self.learn.loss_func(self.learn.preds, self.learn.batch[1])\n",
    "    def backward(self): self.learn.loss.backward()\n",
    "    def step(self): self.learn.opt.step()\n",
    "    def zero_grad(self): self.learn.opt.zero_grad()"
   ]
  },
  {
   "cell_type": "code",
   "execution_count": 64,
   "id": "93051a7a-8f74-414f-b8a6-09ec395a70c5",
   "metadata": {},
   "outputs": [],
   "source": [
    "class DeviceCB(Callback):\n",
    "    def before_fit(self): self.learn.model.to(def_device)\n",
    "    def before_batch(self): self.learn.batch = to_device(self.learn.batch)"
   ]
  },
  {
   "cell_type": "code",
   "execution_count": null,
   "id": "c3226440-36b8-4a80-bc32-a9e5f4563592",
   "metadata": {},
   "outputs": [],
   "source": [
    "class MetricsCB(Callback):\n",
    "    def __init__(self, metric=None):\n",
    "        self.loss_m = Metric()\n",
    "        self.all = [self.loss_m]\n",
    "        if metric:\n",
    "            self.metric = metric\n",
    "            self.all.append(metric)\n",
    "            \n",
    "    def log(self, *s): print(self.learn.epoch, self.learn.model.training, *s)\n",
    "    def before_fit(self): self.learn.metrics = self\n",
    "    \n",
    "    def before_epoch(self): [o.reset() for o in self.all]\n",
    "    def after_epoch(self): self.log(*[f'{o.value:.3f}' for o in self.all])\n",
    "    \n",
    "    def after_batch(self):\n",
    "        if hasattr(self, 'metric'):\n",
    "            self.metric.add(self.learn.preds.argmax(dim=1), self.learn.batch[1])\n",
    "        self.loss_m.add(self.learn.loss, n=len(self.learn.batch[0]))"
   ]
  }
 ],
 "metadata": {
  "kernelspec": {
   "display_name": "Python 3 (ipykernel)",
   "language": "python",
   "name": "python3"
  },
  "language_info": {
   "codemirror_mode": {
    "name": "ipython",
    "version": 3
   },
   "file_extension": ".py",
   "mimetype": "text/x-python",
   "name": "python",
   "nbconvert_exporter": "python",
   "pygments_lexer": "ipython3",
   "version": "3.10.8"
  }
 },
 "nbformat": 4,
 "nbformat_minor": 5
}
