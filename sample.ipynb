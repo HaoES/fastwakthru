{
 "cells": [
  {
   "cell_type": "markdown",
   "id": "d2895b33-ef53-4e7a-9c62-94271416c7e7",
   "metadata": {},
   "source": [
    "# hello"
   ]
  },
  {
   "cell_type": "code",
   "execution_count": null,
   "id": "aab5cd5a-95ef-41d1-b94c-b03f5df9b93a",
   "metadata": {},
   "outputs": [],
   "source": [
    "sin"
   ]
  }
 ],
 "metadata": {
  "kernelspec": {
   "display_name": "Python 3 (ipykernel)",
   "language": "python",
   "name": "python3"
  },
  "language_info": {
   "codemirror_mode": {
    "name": "ipython",
    "version": 3
   },
   "file_extension": ".py",
   "mimetype": "text/x-python",
   "name": "python",
   "nbconvert_exporter": "python",
   "pygments_lexer": "ipython3",
   "version": "3.10.8"
  }
 },
 "nbformat": 4,
 "nbformat_minor": 5
}
